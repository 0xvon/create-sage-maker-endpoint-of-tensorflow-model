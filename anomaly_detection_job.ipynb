{
 "cells": [
  {
   "cell_type": "code",
   "execution_count": 1,
   "metadata": {},
   "outputs": [
    {
     "name": "stderr",
     "output_type": "stream",
     "text": [
      "Using TensorFlow backend.\n",
      "/home/ec2-user/anaconda3/envs/tensorflow_p36/lib/python3.6/site-packages/sklearn/externals/joblib/__init__.py:15: DeprecationWarning: sklearn.externals.joblib is deprecated in 0.21 and will be removed in 0.23. Please import this functionality directly from joblib, which can be installed with: pip install joblib. If this warning is raised when loading pickled models, you may need to re-serialize those models with scikit-learn 0.21+.\n",
      "  warnings.warn(msg, category=DeprecationWarning)\n"
     ]
    },
    {
     "name": "stdout",
     "output_type": "stream",
     "text": [
      "CPU times: user 2.23 s, sys: 168 ms, total: 2.4 s\n",
      "Wall time: 2.41 s\n"
     ]
    }
   ],
   "source": [
    "%%time\n",
    "import os\n",
    "import keras\n",
    "import numpy as np\n",
    "from keras.datasets import mnist\n",
    "import sagemaker\n",
    "import numpy as np\n",
    "from sklearn.externals import joblib\n",
    "import pandas as pd\n",
    "import tensorflow as tf\n",
    "from keras import backend as K\n",
    "from sklearn.preprocessing import MinMaxScaler\n",
    "from sklearn.metrics import mean_squared_error"
   ]
  },
  {
   "cell_type": "code",
   "execution_count": 161,
   "metadata": {},
   "outputs": [
    {
     "data": {
      "text/plain": [
       "{'prediction': 198}"
      ]
     },
     "execution_count": 161,
     "metadata": {},
     "output_type": "execute_result"
    }
   ],
   "source": [
    "import boto3\n",
    "import json\n",
    "\n",
    "client = boto3.client('sagemaker-runtime')\n",
    "\n",
    "# inp = bytes(str(exc[0].flatten().tolist()), 'utf-8')\n",
    "inp = json.dumps(exc[0].flatten().tolist())\n",
    "\n",
    "response = client.invoke_endpoint(\n",
    "    EndpointName='sagemaker-tensorflow-scriptmode-2019-11-08-05-56-35-964',\n",
    "    Body=inp,\n",
    "    ContentType='application/json',\n",
    "    Accept='application/json'\n",
    ")\n",
    "\n",
    "body = response['Body']\n",
    "json.load(body)"
   ]
  },
  {
   "cell_type": "markdown",
   "metadata": {},
   "source": [
    "## トレーニングデータをS3にアップする"
   ]
  },
  {
   "cell_type": "code",
   "execution_count": 2,
   "metadata": {},
   "outputs": [],
   "source": [
    "def _load_data(data, n_prev=50):\n",
    "    docX, docY = [], []\n",
    "    for i in range(len(data) - n_prev):\n",
    "        if i == 0:\n",
    "            continue\n",
    "        docX.append(data.iloc[i - 1:i + n_prev - 1].values)\n",
    "        docY.append(data.iloc[i + n_prev].values)\n",
    "    alsX = np.array(docX)\n",
    "    alsY = np.array(docY)\n",
    "\n",
    "    return alsX, alsY\n",
    "\n",
    "\n",
    "# 学習用とテスト用データを分割、ただし分割する際に_load_data()を適用\n",
    "def train_test_split(df, test_size=0.1, n_prev=50):\n",
    "    \"\"\"\n",
    "    This just splits data to training and testing parts\n",
    "    \"\"\"\n",
    "    ntrn = round(len(df) * (1 - test_size))\n",
    "    ntrn = int(ntrn)\n",
    "    X_train, y_train = _load_data(df.iloc[0:ntrn], n_prev)\n",
    "    X_test, y_test = _load_data(df.iloc[ntrn:], n_prev)\n",
    "\n",
    "    return (X_train, y_train), (X_test, y_test)\n",
    "\n",
    "\n",
    "def inverse_original_scale(x):\n",
    "    x = scaler.inverse_transform(x.reshape(1, -1))\n",
    "    x = np.exp(x)\n",
    "    return x\n",
    "\n",
    "\n",
    "\n",
    "df_code_date_hourly = pd.read_csv('./code_run_num_hourly.csv')\n",
    "split_date = lambda x: x.split(\" \")[0]\n",
    "df_code_date_hourly[\"date\"] = list(map(split_date, df_code_date_hourly['timestamp'].values))\n",
    "\n",
    "# log scaling\n",
    "df_code_date_hourly['code_num'] = np.log(df_code_date_hourly['demand'])\n",
    "\n",
    "# MinMaxS scaling\n",
    "scaler = MinMaxScaler(feature_range=(0, 1))\n",
    "df_code_date_hourly['code_num'] = scaler.fit_transform(df_code_date_hourly['code_num'].values.reshape(-1, 1))\n",
    "\n",
    "# \n",
    "\n",
    "length_of_sequences = 24\n",
    "test_size = 0.1\n",
    "\n",
    "(X_train, y_train), (X_test, y_test) = train_test_split(df_code_date_hourly[['demand']], test_size=test_size,\n",
    "                                                        n_prev=length_of_sequences)\n",
    "\n",
    "# row_data = df_code_date_hourly['demand'].values"
   ]
  },
  {
   "cell_type": "code",
   "execution_count": 3,
   "metadata": {},
   "outputs": [
    {
     "data": {
      "text/plain": [
       "(10701, 1)"
      ]
     },
     "execution_count": 3,
     "metadata": {},
     "output_type": "execute_result"
    }
   ],
   "source": [
    "y_train.shape"
   ]
  },
  {
   "cell_type": "code",
   "execution_count": 4,
   "metadata": {},
   "outputs": [],
   "source": [
    "(_, _), (exc, _) = train_test_split(df_code_date_hourly[['demand']], test_size=test_size,\n",
    "                                                        n_prev=length_of_sequences)"
   ]
  },
  {
   "cell_type": "code",
   "execution_count": 143,
   "metadata": {},
   "outputs": [
    {
     "name": "stdout",
     "output_type": "stream",
     "text": [
      "Training data is uploaded to: s3://sagemaker-ap-northeast-1-481470706855/dataset/anomaly_detection\n"
     ]
    }
   ],
   "source": [
    "os.makedirs(\"./anomaly_data\", exist_ok = True)\n",
    "\n",
    "# np.savez('./data/train', image=X_train, label=y_train)\n",
    "# np.savez('./data/test', image=X_test, label=y_test)\n",
    "df_code_date_hourly = pd.read_csv('./code_run_num_hourly.csv')\n",
    "df_code_date_hourly.to_csv('anomaly_data/train_data.csv')\n",
    "# np.savez('./data/row_data', row_data=row_data)\n",
    "joblib.dump(scaler, './anomaly_data/scaler.save')\n",
    "\n",
    "import sagemaker\n",
    "sagemaker_session = sagemaker.Session()\n",
    "bucket_name = sagemaker_session.default_bucket()\n",
    "input_data = sagemaker_session.upload_data(path='./anomaly_data', bucket=bucket_name, key_prefix='dataset/anomaly_detection')\n",
    "print('Training data is uploaded to: {}'.format(input_data))"
   ]
  },
  {
   "cell_type": "markdown",
   "metadata": {},
   "source": [
    "### TensorFlowScriptModeコンテナ"
   ]
  },
  {
   "cell_type": "code",
   "execution_count": 144,
   "metadata": {},
   "outputs": [
    {
     "name": "stdout",
     "output_type": "stream",
     "text": [
      "2019-11-08 04:10:43 Starting - Starting the training job...\n",
      "2019-11-08 04:10:44 Starting - Launching requested ML instances......\n",
      "2019-11-08 04:11:46 Starting - Preparing the instances for training...\n",
      "2019-11-08 04:12:29 Downloading - Downloading input data...\n",
      "2019-11-08 04:13:11 Training - Training image download completed. Training in progress..\n",
      "\u001b[31m2019-11-08 04:13:14,669 sagemaker-containers INFO     Imported framework sagemaker_tensorflow_container.training\u001b[0m\n",
      "\u001b[31m2019-11-08 04:13:14,676 sagemaker-containers INFO     No GPUs detected (normal if no gpus installed)\u001b[0m\n",
      "\u001b[31m2019-11-08 04:13:15,043 sagemaker-containers INFO     No GPUs detected (normal if no gpus installed)\u001b[0m\n",
      "\u001b[31m2019-11-08 04:13:15,060 sagemaker-containers INFO     No GPUs detected (normal if no gpus installed)\u001b[0m\n",
      "\u001b[31m2019-11-08 04:13:15,074 sagemaker-containers INFO     Invoking user script\n",
      "\u001b[0m\n",
      "\u001b[31mTraining Env:\n",
      "\u001b[0m\n",
      "\u001b[31m{\n",
      "    \"additional_framework_parameters\": {},\n",
      "    \"channel_input_dirs\": {\n",
      "        \"training\": \"/opt/ml/input/data/training\"\n",
      "    },\n",
      "    \"current_host\": \"algo-1\",\n",
      "    \"framework_module\": \"sagemaker_tensorflow_container.training:main\",\n",
      "    \"hosts\": [\n",
      "        \"algo-1\"\n",
      "    ],\n",
      "    \"hyperparameters\": {\n",
      "        \"batch-size\": 256,\n",
      "        \"model_dir\": \"s3://sagemaker-ap-northeast-1-481470706855/sagemaker-tensorflow-scriptmode-2019-11-08-04-10-40-842/model\",\n",
      "        \"epochs\": 50\n",
      "    },\n",
      "    \"input_config_dir\": \"/opt/ml/input/config\",\n",
      "    \"input_data_config\": {\n",
      "        \"training\": {\n",
      "            \"TrainingInputMode\": \"File\",\n",
      "            \"S3DistributionType\": \"FullyReplicated\",\n",
      "            \"RecordWrapperType\": \"None\"\n",
      "        }\n",
      "    },\n",
      "    \"input_dir\": \"/opt/ml/input\",\n",
      "    \"is_master\": true,\n",
      "    \"job_name\": \"sagemaker-tensorflow-scriptmode-2019-11-08-04-10-40-842\",\n",
      "    \"log_level\": 20,\n",
      "    \"master_hostname\": \"algo-1\",\n",
      "    \"model_dir\": \"/opt/ml/model\",\n",
      "    \"module_dir\": \"s3://sagemaker-ap-northeast-1-481470706855/sagemaker-tensorflow-scriptmode-2019-11-08-04-10-40-842/source/sourcedir.tar.gz\",\n",
      "    \"module_name\": \"anomaly_model\",\n",
      "    \"network_interface_name\": \"eth0\",\n",
      "    \"num_cpus\": 4,\n",
      "    \"num_gpus\": 0,\n",
      "    \"output_data_dir\": \"/opt/ml/output/data\",\n",
      "    \"output_dir\": \"/opt/ml/output\",\n",
      "    \"output_intermediate_dir\": \"/opt/ml/output/intermediate\",\n",
      "    \"resource_config\": {\n",
      "        \"current_host\": \"algo-1\",\n",
      "        \"hosts\": [\n",
      "            \"algo-1\"\n",
      "        ],\n",
      "        \"network_interface_name\": \"eth0\"\n",
      "    },\n",
      "    \"user_entry_point\": \"anomaly_model.py\"\u001b[0m\n",
      "\u001b[31m}\n",
      "\u001b[0m\n",
      "\u001b[31mEnvironment variables:\n",
      "\u001b[0m\n",
      "\u001b[31mSM_HOSTS=[\"algo-1\"]\u001b[0m\n",
      "\u001b[31mSM_NETWORK_INTERFACE_NAME=eth0\u001b[0m\n",
      "\u001b[31mSM_HPS={\"batch-size\":256,\"epochs\":50,\"model_dir\":\"s3://sagemaker-ap-northeast-1-481470706855/sagemaker-tensorflow-scriptmode-2019-11-08-04-10-40-842/model\"}\u001b[0m\n",
      "\u001b[31mSM_USER_ENTRY_POINT=anomaly_model.py\u001b[0m\n",
      "\u001b[31mSM_FRAMEWORK_PARAMS={}\u001b[0m\n",
      "\u001b[31mSM_RESOURCE_CONFIG={\"current_host\":\"algo-1\",\"hosts\":[\"algo-1\"],\"network_interface_name\":\"eth0\"}\u001b[0m\n",
      "\u001b[31mSM_INPUT_DATA_CONFIG={\"training\":{\"RecordWrapperType\":\"None\",\"S3DistributionType\":\"FullyReplicated\",\"TrainingInputMode\":\"File\"}}\u001b[0m\n",
      "\u001b[31mSM_OUTPUT_DATA_DIR=/opt/ml/output/data\u001b[0m\n",
      "\u001b[31mSM_CHANNELS=[\"training\"]\u001b[0m\n",
      "\u001b[31mSM_CURRENT_HOST=algo-1\u001b[0m\n",
      "\u001b[31mSM_MODULE_NAME=anomaly_model\u001b[0m\n",
      "\u001b[31mSM_LOG_LEVEL=20\u001b[0m\n",
      "\u001b[31mSM_FRAMEWORK_MODULE=sagemaker_tensorflow_container.training:main\u001b[0m\n",
      "\u001b[31mSM_INPUT_DIR=/opt/ml/input\u001b[0m\n",
      "\u001b[31mSM_INPUT_CONFIG_DIR=/opt/ml/input/config\u001b[0m\n",
      "\u001b[31mSM_OUTPUT_DIR=/opt/ml/output\u001b[0m\n",
      "\u001b[31mSM_NUM_CPUS=4\u001b[0m\n",
      "\u001b[31mSM_NUM_GPUS=0\u001b[0m\n",
      "\u001b[31mSM_MODEL_DIR=/opt/ml/model\u001b[0m\n",
      "\u001b[31mSM_MODULE_DIR=s3://sagemaker-ap-northeast-1-481470706855/sagemaker-tensorflow-scriptmode-2019-11-08-04-10-40-842/source/sourcedir.tar.gz\u001b[0m\n",
      "\u001b[31mSM_TRAINING_ENV={\"additional_framework_parameters\":{},\"channel_input_dirs\":{\"training\":\"/opt/ml/input/data/training\"},\"current_host\":\"algo-1\",\"framework_module\":\"sagemaker_tensorflow_container.training:main\",\"hosts\":[\"algo-1\"],\"hyperparameters\":{\"batch-size\":256,\"epochs\":50,\"model_dir\":\"s3://sagemaker-ap-northeast-1-481470706855/sagemaker-tensorflow-scriptmode-2019-11-08-04-10-40-842/model\"},\"input_config_dir\":\"/opt/ml/input/config\",\"input_data_config\":{\"training\":{\"RecordWrapperType\":\"None\",\"S3DistributionType\":\"FullyReplicated\",\"TrainingInputMode\":\"File\"}},\"input_dir\":\"/opt/ml/input\",\"is_master\":true,\"job_name\":\"sagemaker-tensorflow-scriptmode-2019-11-08-04-10-40-842\",\"log_level\":20,\"master_hostname\":\"algo-1\",\"model_dir\":\"/opt/ml/model\",\"module_dir\":\"s3://sagemaker-ap-northeast-1-481470706855/sagemaker-tensorflow-scriptmode-2019-11-08-04-10-40-842/source/sourcedir.tar.gz\",\"module_name\":\"anomaly_model\",\"network_interface_name\":\"eth0\",\"num_cpus\":4,\"num_gpus\":0,\"output_data_dir\":\"/opt/ml/output/data\",\"output_dir\":\"/opt/ml/output\",\"output_intermediate_dir\":\"/opt/ml/output/intermediate\",\"resource_config\":{\"current_host\":\"algo-1\",\"hosts\":[\"algo-1\"],\"network_interface_name\":\"eth0\"},\"user_entry_point\":\"anomaly_model.py\"}\u001b[0m\n",
      "\u001b[31mSM_USER_ARGS=[\"--batch-size\",\"256\",\"--epochs\",\"50\",\"--model_dir\",\"s3://sagemaker-ap-northeast-1-481470706855/sagemaker-tensorflow-scriptmode-2019-11-08-04-10-40-842/model\"]\u001b[0m\n",
      "\u001b[31mSM_OUTPUT_INTERMEDIATE_DIR=/opt/ml/output/intermediate\u001b[0m\n",
      "\u001b[31mSM_CHANNEL_TRAINING=/opt/ml/input/data/training\u001b[0m\n",
      "\u001b[31mSM_HP_BATCH-SIZE=256\u001b[0m\n",
      "\u001b[31mSM_HP_MODEL_DIR=s3://sagemaker-ap-northeast-1-481470706855/sagemaker-tensorflow-scriptmode-2019-11-08-04-10-40-842/model\u001b[0m\n",
      "\u001b[31mSM_HP_EPOCHS=50\u001b[0m\n",
      "\u001b[31mPYTHONPATH=/opt/ml/code:/usr/local/bin:/usr/lib/python36.zip:/usr/lib/python3.6:/usr/lib/python3.6/lib-dynload:/usr/local/lib/python3.6/dist-packages:/usr/lib/python3/dist-packages\n",
      "\u001b[0m\n",
      "\u001b[31mInvoking script with the following command:\n",
      "\u001b[0m\n",
      "\u001b[31m/usr/bin/python anomaly_model.py --batch-size 256 --epochs 50 --model_dir s3://sagemaker-ap-northeast-1-481470706855/sagemaker-tensorflow-scriptmode-2019-11-08-04-10-40-842/model\n",
      "\n",
      "\u001b[0m\n",
      "\u001b[31mUsing TensorFlow backend.\u001b[0m\n",
      "\u001b[31m/usr/local/lib/python3.6/dist-packages/sklearn/externals/joblib/__init__.py:15: DeprecationWarning: sklearn.externals.joblib is deprecated in 0.21 and will be removed in 0.23. Please import this functionality directly from joblib, which can be installed with: pip install joblib. If this warning is raised when loading pickled models, you may need to re-serialize those models with scikit-learn 0.21+.\n",
      "  warnings.warn(msg, category=DeprecationWarning)\u001b[0m\n",
      "\u001b[31mfilename: inference.py\u001b[0m\n",
      "\u001b[31mfilename: scaler.save\u001b[0m\n",
      "\u001b[31mfilename: requirements.txt\u001b[0m\n",
      "\u001b[31m/usr/local/lib/python3.6/dist-packages/sklearn/base.py:306: UserWarning: Trying to unpickle estimator MinMaxScaler from version 0.21.2 when using version 0.21.1. This might lead to breaking code or invalid results. Use at your own risk.\n",
      "  UserWarning)\u001b[0m\n",
      "\u001b[31m/usr/local/lib/python3.6/dist-packages/sklearn/base.py:306: UserWarning: Trying to unpickle estimator MinMaxScaler from version 0.21.2 when using version 0.21.1. This might lead to breaking code or invalid results. Use at your own risk.\n",
      "  UserWarning)\u001b[0m\n",
      "\u001b[31m/usr/local/lib/python3.6/dist-packages/sklearn/base.py:306: UserWarning: Trying to unpickle estimator MinMaxScaler from version 0.21.2 when using version 0.21.1. This might lead to breaking code or invalid results. Use at your own risk.\n",
      "  UserWarning)\u001b[0m\n",
      "\u001b[31m/usr/local/lib/python3.6/dist-packages/sklearn/base.py:306: UserWarning: Trying to unpickle estimator MinMaxScaler from version 0.21.2 when using version 0.21.1. This might lead to breaking code or invalid results. Use at your own risk.\n",
      "  UserWarning)\u001b[0m\n",
      "\u001b[31mTrain on 9509 samples, validate on 2359 samples\u001b[0m\n",
      "\u001b[31mEpoch 1/50\u001b[0m\n",
      "\u001b[31m 256/9509 [..............................] - ETA: 58s - loss: 0.4866\n",
      " 512/9509 [>.............................] - ETA: 30s - loss: 0.4451\n",
      " 768/9509 [=>............................] - ETA: 20s - loss: 0.4046\u001b[0m\n",
      "\u001b[31m1024/9509 [==>...........................] - ETA: 15s - loss: 0.3626\u001b[0m\n",
      "\u001b[31m1280/9509 [===>..........................] - ETA: 12s - loss: 0.3212\u001b[0m\n",
      "\u001b[31m1536/9509 [===>..........................] - ETA: 10s - loss: 0.2857\u001b[0m\n",
      "\u001b[31m1792/9509 [====>.........................] - ETA: 9s - loss: 0.2533 \u001b[0m\n",
      "\u001b[31m2048/9509 [=====>........................] - ETA: 8s - loss: 0.2254\u001b[0m\n",
      "\u001b[31m2304/9509 [======>.......................] - ETA: 7s - loss: 0.2047\u001b[0m\n",
      "\u001b[31m2560/9509 [=======>......................] - ETA: 6s - loss: 0.1908\u001b[0m\n",
      "\u001b[31m2816/9509 [=======>......................] - ETA: 6s - loss: 0.1807\u001b[0m\n",
      "\u001b[31m3072/9509 [========>.....................] - ETA: 5s - loss: 0.1723\u001b[0m\n",
      "\u001b[31m3328/9509 [=========>....................] - ETA: 5s - loss: 0.1627\u001b[0m\n",
      "\u001b[31m3584/9509 [==========>...................] - ETA: 4s - loss: 0.1533\u001b[0m\n",
      "\u001b[31m3840/9509 [===========>..................] - ETA: 4s - loss: 0.1452\u001b[0m\n",
      "\u001b[31m4096/9509 [===========>..................] - ETA: 4s - loss: 0.1378\u001b[0m\n",
      "\u001b[31m4352/9509 [============>.................] - ETA: 3s - loss: 0.1315\u001b[0m\n",
      "\u001b[31m4608/9509 [=============>................] - ETA: 3s - loss: 0.1259\u001b[0m\n",
      "\u001b[31m4864/9509 [==============>...............] - ETA: 3s - loss: 0.1213\u001b[0m\n",
      "\u001b[31m5120/9509 [===============>..............] - ETA: 2s - loss: 0.1172\u001b[0m\n",
      "\u001b[31m5376/9509 [===============>..............] - ETA: 2s - loss: 0.1134\u001b[0m\n",
      "\u001b[31m5632/9509 [================>.............] - ETA: 2s - loss: 0.1102\u001b[0m\n",
      "\u001b[31m5888/9509 [=================>............] - ETA: 2s - loss: 0.1071\u001b[0m\n",
      "\u001b[31m6144/9509 [==================>...........] - ETA: 2s - loss: 0.1042\u001b[0m\n",
      "\u001b[31m6400/9509 [===================>..........] - ETA: 1s - loss: 0.1017\u001b[0m\n",
      "\u001b[31m6656/9509 [===================>..........] - ETA: 1s - loss: 0.0992\u001b[0m\n",
      "\u001b[31m6912/9509 [====================>.........] - ETA: 1s - loss: 0.0966\u001b[0m\n",
      "\u001b[31m7168/9509 [=====================>........] - ETA: 1s - loss: 0.0943\u001b[0m\n",
      "\u001b[31m7424/9509 [======================>.......] - ETA: 1s - loss: 0.0919\u001b[0m\n",
      "\u001b[31m7680/9509 [=======================>......] - ETA: 1s - loss: 0.0896\u001b[0m\n",
      "\u001b[31m7936/9509 [========================>.....] - ETA: 0s - loss: 0.0876\u001b[0m\n",
      "\u001b[31m8192/9509 [========================>.....] - ETA: 0s - loss: 0.0857\u001b[0m\n",
      "\u001b[31m8448/9509 [=========================>....] - ETA: 0s - loss: 0.0839\u001b[0m\n",
      "\u001b[31m8704/9509 [==========================>...] - ETA: 0s - loss: 0.0823\u001b[0m\n",
      "\u001b[31m8960/9509 [===========================>..] - ETA: 0s - loss: 0.0808\u001b[0m\n",
      "\u001b[31m9216/9509 [============================>.] - ETA: 0s - loss: 0.0794\u001b[0m\n",
      "\u001b[31m9472/9509 [============================>.] - ETA: 0s - loss: 0.0779\u001b[0m\n",
      "\u001b[31m9509/9509 [==============================] - 5s 576us/step - loss: 0.0778 - val_loss: 0.0295\u001b[0m\n",
      "\u001b[31mEpoch 2/50\u001b[0m\n",
      "\u001b[31m 256/9509 [..............................] - ETA: 3s - loss: 0.0299\n",
      " 512/9509 [>.............................] - ETA: 3s - loss: 0.0257\n",
      " 768/9509 [=>............................] - ETA: 3s - loss: 0.0277\u001b[0m\n",
      "\u001b[31m1024/9509 [==>...........................] - ETA: 3s - loss: 0.0264\u001b[0m\n",
      "\u001b[31m1280/9509 [===>..........................] - ETA: 2s - loss: 0.0260\u001b[0m\n",
      "\u001b[31m1536/9509 [===>..........................] - ETA: 2s - loss: 0.0253\u001b[0m\n",
      "\u001b[31m1792/9509 [====>.........................] - ETA: 2s - loss: 0.0249\u001b[0m\n",
      "\u001b[31m2048/9509 [=====>........................] - ETA: 2s - loss: 0.0253\u001b[0m\n",
      "\u001b[31m2304/9509 [======>.......................] - ETA: 2s - loss: 0.0254\u001b[0m\n",
      "\u001b[31m2560/9509 [=======>......................] - ETA: 2s - loss: 0.0255\u001b[0m\n",
      "\u001b[31m2816/9509 [=======>......................] - ETA: 2s - loss: 0.0253\u001b[0m\n",
      "\u001b[31m3072/9509 [========>.....................] - ETA: 2s - loss: 0.0254\u001b[0m\n",
      "\u001b[31m3328/9509 [=========>....................] - ETA: 2s - loss: 0.0255\u001b[0m\n",
      "\u001b[31m3584/9509 [==========>...................] - ETA: 2s - loss: 0.0255\u001b[0m\n",
      "\u001b[31m3840/9509 [===========>..................] - ETA: 2s - loss: 0.0253\u001b[0m\n",
      "\u001b[31m4096/9509 [===========>..................] - ETA: 1s - loss: 0.0256\u001b[0m\n",
      "\u001b[31m4352/9509 [============>.................] - ETA: 1s - loss: 0.0255\u001b[0m\n",
      "\u001b[31m4608/9509 [=============>................] - ETA: 1s - loss: 0.0252\u001b[0m\n",
      "\u001b[31m4864/9509 [==============>...............] - ETA: 1s - loss: 0.0250\u001b[0m\n",
      "\u001b[31m5120/9509 [===============>..............] - ETA: 1s - loss: 0.0249\u001b[0m\n",
      "\u001b[31m5376/9509 [===============>..............] - ETA: 1s - loss: 0.0247\u001b[0m\n",
      "\u001b[31m5632/9509 [================>.............] - ETA: 1s - loss: 0.0247\u001b[0m\n",
      "\u001b[31m5888/9509 [=================>............] - ETA: 1s - loss: 0.0246\u001b[0m\n",
      "\u001b[31m6144/9509 [==================>...........] - ETA: 1s - loss: 0.0247\u001b[0m\n",
      "\u001b[31m6400/9509 [===================>..........] - ETA: 1s - loss: 0.0248\u001b[0m\n",
      "\u001b[31m6656/9509 [===================>..........] - ETA: 1s - loss: 0.0248\u001b[0m\n",
      "\u001b[31m6912/9509 [====================>.........] - ETA: 0s - loss: 0.0249\u001b[0m\n",
      "\u001b[31m7168/9509 [=====================>........] - ETA: 0s - loss: 0.0248\u001b[0m\n",
      "\u001b[31m7424/9509 [======================>.......] - ETA: 0s - loss: 0.0247\u001b[0m\n",
      "\u001b[31m7680/9509 [=======================>......] - ETA: 0s - loss: 0.0246\u001b[0m\n",
      "\u001b[31m7936/9509 [========================>.....] - ETA: 0s - loss: 0.0248\u001b[0m\n"
     ]
    },
    {
     "name": "stdout",
     "output_type": "stream",
     "text": [
      "\u001b[31m8192/9509 [========================>.....] - ETA: 0s - loss: 0.0248\u001b[0m\n",
      "\u001b[31m8448/9509 [=========================>....] - ETA: 0s - loss: 0.0248\u001b[0m\n",
      "\u001b[31m8704/9509 [==========================>...] - ETA: 0s - loss: 0.0250\u001b[0m\n",
      "\u001b[31m8960/9509 [===========================>..] - ETA: 0s - loss: 0.0249\u001b[0m\n",
      "\u001b[31m9216/9509 [============================>.] - ETA: 0s - loss: 0.0249\u001b[0m\n",
      "\u001b[31m9472/9509 [============================>.] - ETA: 0s - loss: 0.0249\u001b[0m\n",
      "\u001b[31m9509/9509 [==============================] - 4s 391us/step - loss: 0.0250 - val_loss: 0.0254\u001b[0m\n",
      "\u001b[31mEpoch 3/50\n",
      "\n",
      " 256/9509 [..............................] - ETA: 3s - loss: 0.0250\n",
      " 512/9509 [>.............................] - ETA: 3s - loss: 0.0242\u001b[0m\n",
      "\u001b[31m 768/9509 [=>............................] - ETA: 3s - loss: 0.0247\u001b[0m\n",
      "\u001b[31m1024/9509 [==>...........................] - ETA: 3s - loss: 0.0243\u001b[0m\n",
      "\u001b[31m1280/9509 [===>..........................] - ETA: 2s - loss: 0.0242\u001b[0m\n",
      "\u001b[31m1536/9509 [===>..........................] - ETA: 2s - loss: 0.0244\u001b[0m\n",
      "\u001b[31m1792/9509 [====>.........................] - ETA: 2s - loss: 0.0238\u001b[0m\n",
      "\u001b[31m2048/9509 [=====>........................] - ETA: 2s - loss: 0.0242\u001b[0m\n",
      "\u001b[31m2304/9509 [======>.......................] - ETA: 2s - loss: 0.0241\u001b[0m\n",
      "\u001b[31m2560/9509 [=======>......................] - ETA: 2s - loss: 0.0240\u001b[0m\n",
      "\u001b[31m2816/9509 [=======>......................] - ETA: 2s - loss: 0.0243\u001b[0m\n",
      "\u001b[31m3072/9509 [========>.....................] - ETA: 2s - loss: 0.0243\u001b[0m\n",
      "\u001b[31m3328/9509 [=========>....................] - ETA: 2s - loss: 0.0243\u001b[0m\n",
      "\u001b[31m3584/9509 [==========>...................] - ETA: 2s - loss: 0.0240\u001b[0m\n",
      "\u001b[31m3840/9509 [===========>..................] - ETA: 2s - loss: 0.0243\u001b[0m\n",
      "\u001b[31m4096/9509 [===========>..................] - ETA: 2s - loss: 0.0241\u001b[0m\n",
      "\u001b[31m4352/9509 [============>.................] - ETA: 2s - loss: 0.0241\u001b[0m\n",
      "\u001b[31m4608/9509 [=============>................] - ETA: 1s - loss: 0.0241\u001b[0m\n",
      "\u001b[31m4864/9509 [==============>...............] - ETA: 1s - loss: 0.0241\u001b[0m\n",
      "\u001b[31m5120/9509 [===============>..............] - ETA: 1s - loss: 0.0242\u001b[0m\n",
      "\u001b[31m5376/9509 [===============>..............] - ETA: 1s - loss: 0.0241\u001b[0m\n",
      "\u001b[31m5632/9509 [================>.............] - ETA: 1s - loss: 0.0241\u001b[0m\n",
      "\u001b[31m5888/9509 [=================>............] - ETA: 1s - loss: 0.0241\u001b[0m\n",
      "\u001b[31m6144/9509 [==================>...........] - ETA: 1s - loss: 0.0241\u001b[0m\n",
      "\u001b[31m6400/9509 [===================>..........] - ETA: 1s - loss: 0.0242\u001b[0m\n",
      "\u001b[31m6656/9509 [===================>..........] - ETA: 1s - loss: 0.0241\u001b[0m\n",
      "\u001b[31m6912/9509 [====================>.........] - ETA: 1s - loss: 0.0241\u001b[0m\n",
      "\u001b[31m7168/9509 [=====================>........] - ETA: 0s - loss: 0.0240\u001b[0m\n",
      "\u001b[31m7424/9509 [======================>.......] - ETA: 0s - loss: 0.0240\u001b[0m\n",
      "\u001b[31m7680/9509 [=======================>......] - ETA: 0s - loss: 0.0239\u001b[0m\n",
      "\u001b[31m7936/9509 [========================>.....] - ETA: 0s - loss: 0.0237\u001b[0m\n",
      "\u001b[31m8192/9509 [========================>.....] - ETA: 0s - loss: 0.0236\u001b[0m\n",
      "\u001b[31m8448/9509 [=========================>....] - ETA: 0s - loss: 0.0236\u001b[0m\n",
      "\u001b[31m8704/9509 [==========================>...] - ETA: 0s - loss: 0.0237\u001b[0m\n",
      "\u001b[31m8960/9509 [===========================>..] - ETA: 0s - loss: 0.0236\u001b[0m\n",
      "\u001b[31m9216/9509 [============================>.] - ETA: 0s - loss: 0.0236\u001b[0m\n",
      "\u001b[31m9472/9509 [============================>.] - ETA: 0s - loss: 0.0234\u001b[0m\n",
      "\u001b[31m9509/9509 [==============================] - 4s 401us/step - loss: 0.0234 - val_loss: 0.0245\u001b[0m\n",
      "\u001b[31mEpoch 4/50\n",
      "\n",
      " 256/9509 [..............................] - ETA: 3s - loss: 0.0279\n",
      " 512/9509 [>.............................] - ETA: 3s - loss: 0.0263\n",
      " 768/9509 [=>............................] - ETA: 3s - loss: 0.0259\u001b[0m\n",
      "\u001b[31m1024/9509 [==>...........................] - ETA: 3s - loss: 0.0252\u001b[0m\n",
      "\u001b[31m1280/9509 [===>..........................] - ETA: 2s - loss: 0.0250\u001b[0m\n",
      "\u001b[31m1536/9509 [===>..........................] - ETA: 2s - loss: 0.0246\u001b[0m\n",
      "\u001b[31m1792/9509 [====>.........................] - ETA: 2s - loss: 0.0242\u001b[0m\n",
      "\u001b[31m2048/9509 [=====>........................] - ETA: 2s - loss: 0.0247\u001b[0m\n",
      "\u001b[31m2304/9509 [======>.......................] - ETA: 2s - loss: 0.0242\u001b[0m\n",
      "\u001b[31m2560/9509 [=======>......................] - ETA: 2s - loss: 0.0238\u001b[0m\n",
      "\u001b[31m2816/9509 [=======>......................] - ETA: 2s - loss: 0.0235\u001b[0m\n",
      "\u001b[31m3072/9509 [========>.....................] - ETA: 2s - loss: 0.0235\u001b[0m\n",
      "\u001b[31m3328/9509 [=========>....................] - ETA: 2s - loss: 0.0231\u001b[0m\n",
      "\u001b[31m3584/9509 [==========>...................] - ETA: 2s - loss: 0.0228\u001b[0m\n",
      "\u001b[31m3840/9509 [===========>..................] - ETA: 2s - loss: 0.0225\u001b[0m\n",
      "\u001b[31m4096/9509 [===========>..................] - ETA: 1s - loss: 0.0226\u001b[0m\n",
      "\u001b[31m4352/9509 [============>.................] - ETA: 1s - loss: 0.0224\u001b[0m\n",
      "\u001b[31m4608/9509 [=============>................] - ETA: 1s - loss: 0.0225\u001b[0m\n",
      "\u001b[31m4864/9509 [==============>...............] - ETA: 1s - loss: 0.0223\u001b[0m\n",
      "\u001b[31m5120/9509 [===============>..............] - ETA: 1s - loss: 0.0221\u001b[0m\n",
      "\u001b[31m5376/9509 [===============>..............] - ETA: 1s - loss: 0.0222\u001b[0m\n",
      "\u001b[31m5632/9509 [================>.............] - ETA: 1s - loss: 0.0224\u001b[0m\n",
      "\u001b[31m5888/9509 [=================>............] - ETA: 1s - loss: 0.0223\u001b[0m\n",
      "\u001b[31m6144/9509 [==================>...........] - ETA: 1s - loss: 0.0223\u001b[0m\n",
      "\u001b[31m6400/9509 [===================>..........] - ETA: 1s - loss: 0.0221\u001b[0m\n",
      "\u001b[31m6656/9509 [===================>..........] - ETA: 1s - loss: 0.0221\u001b[0m\n",
      "\u001b[31m6912/9509 [====================>.........] - ETA: 0s - loss: 0.0221\u001b[0m\n",
      "\u001b[31m7168/9509 [=====================>........] - ETA: 0s - loss: 0.0220\u001b[0m\n",
      "\u001b[31m7424/9509 [======================>.......] - ETA: 0s - loss: 0.0219\u001b[0m\n",
      "\u001b[31m7680/9509 [=======================>......] - ETA: 0s - loss: 0.0219\u001b[0m\n",
      "\u001b[31m7936/9509 [========================>.....] - ETA: 0s - loss: 0.0218\u001b[0m\n",
      "\u001b[31m8192/9509 [========================>.....] - ETA: 0s - loss: 0.0218\u001b[0m\n",
      "\u001b[31m8448/9509 [=========================>....] - ETA: 0s - loss: 0.0218\u001b[0m\n",
      "\u001b[31m8704/9509 [==========================>...] - ETA: 0s - loss: 0.0217\u001b[0m\n",
      "\u001b[31m8960/9509 [===========================>..] - ETA: 0s - loss: 0.0217\u001b[0m\n",
      "\u001b[31m9216/9509 [============================>.] - ETA: 0s - loss: 0.0218\u001b[0m\n",
      "\u001b[31m9472/9509 [============================>.] - ETA: 0s - loss: 0.0219\u001b[0m\n",
      "\u001b[31m9509/9509 [==============================] - 4s 394us/step - loss: 0.0220 - val_loss: 0.0225\u001b[0m\n",
      "\u001b[31mEpoch 5/50\n",
      "\n",
      " 256/9509 [..............................] - ETA: 3s - loss: 0.0197\n",
      " 512/9509 [>.............................] - ETA: 3s - loss: 0.0210\n",
      " 768/9509 [=>............................] - ETA: 3s - loss: 0.0211\u001b[0m\n",
      "\u001b[31m1024/9509 [==>...........................] - ETA: 3s - loss: 0.0212\u001b[0m\n",
      "\u001b[31m1280/9509 [===>..........................] - ETA: 3s - loss: 0.0212\u001b[0m\n",
      "\u001b[31m1536/9509 [===>..........................] - ETA: 2s - loss: 0.0207\u001b[0m\n",
      "\u001b[31m1792/9509 [====>.........................] - ETA: 2s - loss: 0.0204\u001b[0m\n",
      "\u001b[31m2048/9509 [=====>........................] - ETA: 2s - loss: 0.0203\u001b[0m\n",
      "\u001b[31m2304/9509 [======>.......................] - ETA: 2s - loss: 0.0202\u001b[0m\n",
      "\u001b[31m2560/9509 [=======>......................] - ETA: 2s - loss: 0.0204\u001b[0m\n",
      "\u001b[31m2816/9509 [=======>......................] - ETA: 2s - loss: 0.0204\u001b[0m\n",
      "\u001b[31m3072/9509 [========>.....................] - ETA: 2s - loss: 0.0207\u001b[0m\n",
      "\u001b[31m3328/9509 [=========>....................] - ETA: 2s - loss: 0.0206\u001b[0m\n",
      "\u001b[31m3584/9509 [==========>...................] - ETA: 2s - loss: 0.0205\u001b[0m\n",
      "\u001b[31m3840/9509 [===========>..................] - ETA: 2s - loss: 0.0204\u001b[0m\n",
      "\u001b[31m4096/9509 [===========>..................] - ETA: 1s - loss: 0.0203\u001b[0m\n",
      "\u001b[31m4352/9509 [============>.................] - ETA: 1s - loss: 0.0202\u001b[0m\n",
      "\u001b[31m4608/9509 [=============>................] - ETA: 1s - loss: 0.0200\u001b[0m\n",
      "\u001b[31m4864/9509 [==============>...............] - ETA: 1s - loss: 0.0199\u001b[0m\n",
      "\u001b[31m5120/9509 [===============>..............] - ETA: 1s - loss: 0.0199\u001b[0m\n",
      "\u001b[31m5376/9509 [===============>..............] - ETA: 1s - loss: 0.0199\u001b[0m\n",
      "\u001b[31m5632/9509 [================>.............] - ETA: 1s - loss: 0.0201\u001b[0m\n",
      "\u001b[31m5888/9509 [=================>............] - ETA: 1s - loss: 0.0200\u001b[0m\n",
      "\u001b[31m6144/9509 [==================>...........] - ETA: 1s - loss: 0.0200\u001b[0m\n",
      "\u001b[31m6400/9509 [===================>..........] - ETA: 1s - loss: 0.0199\u001b[0m\n",
      "\u001b[31m6656/9509 [===================>..........] - ETA: 1s - loss: 0.0198\u001b[0m\n",
      "\u001b[31m6912/9509 [====================>.........] - ETA: 0s - loss: 0.0199\u001b[0m\n",
      "\u001b[31m7168/9509 [=====================>........] - ETA: 0s - loss: 0.0198\u001b[0m\n",
      "\u001b[31m7424/9509 [======================>.......] - ETA: 0s - loss: 0.0199\u001b[0m\n",
      "\u001b[31m7680/9509 [=======================>......] - ETA: 0s - loss: 0.0199\u001b[0m\n",
      "\u001b[31m7936/9509 [========================>.....] - ETA: 0s - loss: 0.0199\u001b[0m\n",
      "\u001b[31m8192/9509 [========================>.....] - ETA: 0s - loss: 0.0198\u001b[0m\n",
      "\u001b[31m8448/9509 [=========================>....] - ETA: 0s - loss: 0.0197\u001b[0m\n",
      "\u001b[31m8704/9509 [==========================>...] - ETA: 0s - loss: 0.0195\u001b[0m\n",
      "\u001b[31m8960/9509 [===========================>..] - ETA: 0s - loss: 0.0195\u001b[0m\n",
      "\u001b[31m9216/9509 [============================>.] - ETA: 0s - loss: 0.0195\u001b[0m\n",
      "\u001b[31m9472/9509 [============================>.] - ETA: 0s - loss: 0.0195\u001b[0m\n",
      "\u001b[31m9509/9509 [==============================] - 4s 395us/step - loss: 0.0195 - val_loss: 0.0183\u001b[0m\n",
      "\u001b[31mEpoch 6/50\u001b[0m\n",
      "\u001b[31m 256/9509 [..............................] - ETA: 3s - loss: 0.0150\n",
      " 512/9509 [>.............................] - ETA: 3s - loss: 0.0187\n",
      " 768/9509 [=>............................] - ETA: 3s - loss: 0.0180\u001b[0m\n",
      "\u001b[31m1024/9509 [==>...........................] - ETA: 3s - loss: 0.0176\u001b[0m\n",
      "\u001b[31m1280/9509 [===>..........................] - ETA: 3s - loss: 0.0176\u001b[0m\n",
      "\u001b[31m1536/9509 [===>..........................] - ETA: 2s - loss: 0.0173\u001b[0m\n",
      "\u001b[31m1792/9509 [====>.........................] - ETA: 2s - loss: 0.0170\u001b[0m\n",
      "\u001b[31m2048/9509 [=====>........................] - ETA: 2s - loss: 0.0169\u001b[0m\n",
      "\u001b[31m2304/9509 [======>.......................] - ETA: 2s - loss: 0.0168\u001b[0m\n",
      "\u001b[31m2560/9509 [=======>......................] - ETA: 2s - loss: 0.0165\u001b[0m\n",
      "\u001b[31m2816/9509 [=======>......................] - ETA: 2s - loss: 0.0163\u001b[0m\n",
      "\u001b[31m3072/9509 [========>.....................] - ETA: 2s - loss: 0.0160\u001b[0m\n",
      "\u001b[31m3328/9509 [=========>....................] - ETA: 2s - loss: 0.0161\u001b[0m\n",
      "\u001b[31m3584/9509 [==========>...................] - ETA: 2s - loss: 0.0158\u001b[0m\n",
      "\u001b[31m3840/9509 [===========>..................] - ETA: 2s - loss: 0.0157\u001b[0m\n",
      "\u001b[31m4096/9509 [===========>..................] - ETA: 2s - loss: 0.0155\u001b[0m\n",
      "\u001b[31m4352/9509 [============>.................] - ETA: 1s - loss: 0.0155\u001b[0m\n",
      "\u001b[31m4608/9509 [=============>................] - ETA: 1s - loss: 0.0153\u001b[0m\n",
      "\u001b[31m4864/9509 [==============>...............] - ETA: 1s - loss: 0.0152\u001b[0m\n",
      "\u001b[31m5120/9509 [===============>..............] - ETA: 1s - loss: 0.0150\u001b[0m\n",
      "\u001b[31m5376/9509 [===============>..............] - ETA: 1s - loss: 0.0147\u001b[0m\n",
      "\u001b[31m5632/9509 [================>.............] - ETA: 1s - loss: 0.0146\u001b[0m\n",
      "\u001b[31m5888/9509 [=================>............] - ETA: 1s - loss: 0.0145\u001b[0m\n",
      "\u001b[31m6144/9509 [==================>...........] - ETA: 1s - loss: 0.0145\u001b[0m\n",
      "\u001b[31m6400/9509 [===================>..........] - ETA: 1s - loss: 0.0143\u001b[0m\n",
      "\u001b[31m6656/9509 [===================>..........] - ETA: 1s - loss: 0.0141\u001b[0m\n",
      "\u001b[31m6912/9509 [====================>.........] - ETA: 0s - loss: 0.0143\u001b[0m\n",
      "\u001b[31m7168/9509 [=====================>........] - ETA: 0s - loss: 0.0142\u001b[0m\n",
      "\u001b[31m7424/9509 [======================>.......] - ETA: 0s - loss: 0.0143\u001b[0m\n",
      "\u001b[31m7680/9509 [=======================>......] - ETA: 0s - loss: 0.0142\u001b[0m\n",
      "\u001b[31m7936/9509 [========================>.....] - ETA: 0s - loss: 0.0142\u001b[0m\n",
      "\u001b[31m8192/9509 [========================>.....] - ETA: 0s - loss: 0.0141\u001b[0m\n",
      "\u001b[31m8448/9509 [=========================>....] - ETA: 0s - loss: 0.0141\u001b[0m\n",
      "\u001b[31m8704/9509 [==========================>...] - ETA: 0s - loss: 0.0141\u001b[0m\n",
      "\u001b[31m8960/9509 [===========================>..] - ETA: 0s - loss: 0.0140\u001b[0m\n",
      "\u001b[31m9216/9509 [============================>.] - ETA: 0s - loss: 0.0140\u001b[0m\n",
      "\u001b[31m9472/9509 [============================>.] - ETA: 0s - loss: 0.0140\u001b[0m\n",
      "\u001b[31m9509/9509 [==============================] - 4s 390us/step - loss: 0.0140 - val_loss: 0.0127\u001b[0m\n",
      "\u001b[31mEpoch 7/50\n",
      "\n",
      " 256/9509 [..............................] - ETA: 3s - loss: 0.0156\n",
      " 512/9509 [>.............................] - ETA: 3s - loss: 0.0162\n",
      " 768/9509 [=>............................] - ETA: 3s - loss: 0.0144\u001b[0m\n",
      "\u001b[31m1024/9509 [==>...........................] - ETA: 3s - loss: 0.0134\u001b[0m\n",
      "\u001b[31m1280/9509 [===>..........................] - ETA: 3s - loss: 0.0135\u001b[0m\n",
      "\u001b[31m1536/9509 [===>..........................] - ETA: 3s - loss: 0.0129\u001b[0m\n",
      "\u001b[31m1792/9509 [====>.........................] - ETA: 2s - loss: 0.0130\u001b[0m\n",
      "\u001b[31m2048/9509 [=====>........................] - ETA: 2s - loss: 0.0126\u001b[0m\n",
      "\u001b[31m2304/9509 [======>.......................] - ETA: 2s - loss: 0.0123\u001b[0m\n",
      "\u001b[31m2560/9509 [=======>......................] - ETA: 2s - loss: 0.0124\u001b[0m\n",
      "\u001b[31m2816/9509 [=======>......................] - ETA: 2s - loss: 0.0121\u001b[0m\n",
      "\u001b[31m3072/9509 [========>.....................] - ETA: 2s - loss: 0.0120\u001b[0m\n",
      "\u001b[31m3328/9509 [=========>....................] - ETA: 2s - loss: 0.0118\u001b[0m\n",
      "\u001b[31m3584/9509 [==========>...................] - ETA: 2s - loss: 0.0116\u001b[0m\n",
      "\u001b[31m3840/9509 [===========>..................] - ETA: 2s - loss: 0.0116\u001b[0m\n",
      "\u001b[31m4096/9509 [===========>..................] - ETA: 2s - loss: 0.0116\u001b[0m\n",
      "\u001b[31m4352/9509 [============>.................] - ETA: 1s - loss: 0.0116\u001b[0m\n",
      "\u001b[31m4608/9509 [=============>................] - ETA: 1s - loss: 0.0115\u001b[0m\n",
      "\u001b[31m4864/9509 [==============>...............] - ETA: 1s - loss: 0.0114\u001b[0m\n",
      "\u001b[31m5120/9509 [===============>..............] - ETA: 1s - loss: 0.0113\u001b[0m\n",
      "\u001b[31m5376/9509 [===============>..............] - ETA: 1s - loss: 0.0114\u001b[0m\n",
      "\u001b[31m5632/9509 [================>.............] - ETA: 1s - loss: 0.0113\u001b[0m\n",
      "\u001b[31m5888/9509 [=================>............] - ETA: 1s - loss: 0.0114\u001b[0m\n",
      "\u001b[31m6144/9509 [==================>...........] - ETA: 1s - loss: 0.0114\u001b[0m\n",
      "\u001b[31m6400/9509 [===================>..........] - ETA: 1s - loss: 0.0113\u001b[0m\n",
      "\u001b[31m6656/9509 [===================>..........] - ETA: 1s - loss: 0.0113\u001b[0m\n",
      "\u001b[31m6912/9509 [====================>.........] - ETA: 0s - loss: 0.0112\u001b[0m\n",
      "\u001b[31m7168/9509 [=====================>........] - ETA: 0s - loss: 0.0112\u001b[0m\n",
      "\u001b[31m7424/9509 [======================>.......] - ETA: 0s - loss: 0.0111\u001b[0m\n",
      "\u001b[31m7680/9509 [=======================>......] - ETA: 0s - loss: 0.0111\u001b[0m\n",
      "\u001b[31m7936/9509 [========================>.....] - ETA: 0s - loss: 0.0111\u001b[0m\n",
      "\u001b[31m8192/9509 [========================>.....] - ETA: 0s - loss: 0.0111\u001b[0m\n",
      "\u001b[31m8448/9509 [=========================>....] - ETA: 0s - loss: 0.0110\u001b[0m\n",
      "\u001b[31m8704/9509 [==========================>...] - ETA: 0s - loss: 0.0110\u001b[0m\n",
      "\u001b[31m8960/9509 [===========================>..] - ETA: 0s - loss: 0.0111\u001b[0m\n",
      "\u001b[31m9216/9509 [============================>.] - ETA: 0s - loss: 0.0111\u001b[0m\n",
      "\u001b[31m9472/9509 [============================>.] - ETA: 0s - loss: 0.0111\u001b[0m\n",
      "\u001b[31m9509/9509 [==============================] - 4s 400us/step - loss: 0.0110 - val_loss: 0.0135\u001b[0m\n",
      "\u001b[31mEpoch 00007: early stopping\u001b[0m\n",
      "\u001b[31m/usr/local/lib/python3.6/dist-packages/sklearn/base.py:306: UserWarning: Trying to unpickle estimator MinMaxScaler from version 0.21.2 when using version 0.21.1. This might lead to breaking code or invalid results. Use at your own risk.\n",
      "  UserWarning)\u001b[0m\n",
      "\u001b[31m/usr/local/lib/python3.6/dist-packages/sklearn/base.py:306: UserWarning: Trying to unpickle estimator MinMaxScaler from version 0.21.2 when using version 0.21.1. This might lead to breaking code or invalid results. Use at your own risk.\n",
      "  UserWarning)\u001b[0m\n"
     ]
    },
    {
     "name": "stdout",
     "output_type": "stream",
     "text": [
      "\u001b[31mWARNING:tensorflow:From /usr/local/lib/python3.6/dist-packages/tensorflow/python/saved_model/simple_save.py:85: calling SavedModelBuilder.add_meta_graph_and_variables (from tensorflow.python.saved_model.builder_impl) with legacy_init_op is deprecated and will be removed in a future version.\u001b[0m\n",
      "\u001b[31mInstructions for updating:\u001b[0m\n",
      "\u001b[31mPass your op to the equivalent parameter main_op instead.\u001b[0m\n",
      "\u001b[31m2019-11-08 04:13:51,667 sagemaker-containers INFO     Reporting training SUCCESS\u001b[0m\n",
      "\n",
      "2019-11-08 04:13:58 Uploading - Uploading generated training model\n",
      "2019-11-08 04:13:58 Completed - Training job completed\n",
      "Billable seconds: 89\n"
     ]
    }
   ],
   "source": [
    "from sagemaker.tensorflow import TensorFlow\n",
    "from sagemaker import get_execution_role\n",
    "\n",
    "\n",
    "hyper_param = {\n",
    "    'batch-size': 256,\n",
    "    'epochs': 50\n",
    "}\n",
    "\n",
    "role = get_execution_role()\n",
    "estimator = TensorFlow(\n",
    "    entry_point = \"./anomaly_data/anomaly_model.py\",\n",
    "    role=role,\n",
    "    train_instance_count=1,\n",
    "    train_instance_type=\"ml.m4.xlarge\",\n",
    "    framework_version=\"1.12.0\",\n",
    "    py_version='py3',\n",
    "    script_mode=True,\n",
    "    hyperparameters=hyper_param\n",
    ")\n",
    "\n",
    "estimator.fit(input_data)"
   ]
  },
  {
   "cell_type": "code",
   "execution_count": 145,
   "metadata": {},
   "outputs": [
    {
     "name": "stdout",
     "output_type": "stream",
     "text": [
      "---------------------------------------------------------------------------------------------------!"
     ]
    }
   ],
   "source": [
    "predictor_ex = estimator.deploy(instance_type='ml.m4.xlarge', initial_instance_count=1)"
   ]
  },
  {
   "cell_type": "code",
   "execution_count": 39,
   "metadata": {},
   "outputs": [
    {
     "data": {
      "text/plain": [
       "array([ 354,  369,  341,  215,  170,  163,  171,  116,  112,  140,  168,\n",
       "        264,  292,  359,  365,  248,  327,  830,  838, 1012,  400,  371,\n",
       "        253,  247])"
      ]
     },
     "execution_count": 39,
     "metadata": {},
     "output_type": "execute_result"
    }
   ],
   "source": [
    "exc[0].flatten() + 100"
   ]
  },
  {
   "cell_type": "code",
   "execution_count": 139,
   "metadata": {},
   "outputs": [],
   "source": [
    "exc[0]\n",
    "\n",
    "ops = {\n",
    "    \"true\": exc[0].flatten().tolist(),\n",
    "    \"pred\": (exc[0].flatten() + 1000).tolist()\n",
    "}\n",
    "\n",
    "ops = json.dumps(ops)"
   ]
  },
  {
   "cell_type": "code",
   "execution_count": 44,
   "metadata": {},
   "outputs": [
    {
     "data": {
      "text/plain": [
       "'{\"true\": [254, 269, 241, 115, 70, 63, 71, 16, 12, 40, 68, 164, 192, 259, 265, 148, 227, 730, 738, 912, 300, 271, 153, 147], \"pred\": [354, 369, 341, 215, 170, 163, 171, 116, 112, 140, 168, 264, 292, 359, 365, 248, 327, 830, 838, 1012, 400, 371, 253, 247]}'"
      ]
     },
     "execution_count": 44,
     "metadata": {},
     "output_type": "execute_result"
    }
   ],
   "source": [
    "ops"
   ]
  },
  {
   "cell_type": "code",
   "execution_count": 84,
   "metadata": {},
   "outputs": [
    {
     "ename": "AttributeError",
     "evalue": "'str' object has no attribute 'read'",
     "output_type": "error",
     "traceback": [
      "\u001b[0;31m---------------------------------------------------------------------------\u001b[0m",
      "\u001b[0;31mAttributeError\u001b[0m                            Traceback (most recent call last)",
      "\u001b[0;32m<ipython-input-84-0f4fc7d9df92>\u001b[0m in \u001b[0;36m<module>\u001b[0;34m()\u001b[0m\n\u001b[0;32m----> 1\u001b[0;31m \u001b[0mjson\u001b[0m\u001b[0;34m.\u001b[0m\u001b[0mload\u001b[0m\u001b[0;34m(\u001b[0m\u001b[0mops\u001b[0m\u001b[0;34m)\u001b[0m\u001b[0;34m[\u001b[0m\u001b[0;34m'true'\u001b[0m\u001b[0;34m]\u001b[0m\u001b[0;34m\u001b[0m\u001b[0m\n\u001b[0m",
      "\u001b[0;32m~/anaconda3/envs/tensorflow_p36/lib/python3.6/json/__init__.py\u001b[0m in \u001b[0;36mload\u001b[0;34m(fp, cls, object_hook, parse_float, parse_int, parse_constant, object_pairs_hook, **kw)\u001b[0m\n\u001b[1;32m    294\u001b[0m \u001b[0;34m\u001b[0m\u001b[0m\n\u001b[1;32m    295\u001b[0m     \"\"\"\n\u001b[0;32m--> 296\u001b[0;31m     return loads(fp.read(),\n\u001b[0m\u001b[1;32m    297\u001b[0m         \u001b[0mcls\u001b[0m\u001b[0;34m=\u001b[0m\u001b[0mcls\u001b[0m\u001b[0;34m,\u001b[0m \u001b[0mobject_hook\u001b[0m\u001b[0;34m=\u001b[0m\u001b[0mobject_hook\u001b[0m\u001b[0;34m,\u001b[0m\u001b[0;34m\u001b[0m\u001b[0m\n\u001b[1;32m    298\u001b[0m         \u001b[0mparse_float\u001b[0m\u001b[0;34m=\u001b[0m\u001b[0mparse_float\u001b[0m\u001b[0;34m,\u001b[0m \u001b[0mparse_int\u001b[0m\u001b[0;34m=\u001b[0m\u001b[0mparse_int\u001b[0m\u001b[0;34m,\u001b[0m\u001b[0;34m\u001b[0m\u001b[0m\n",
      "\u001b[0;31mAttributeError\u001b[0m: 'str' object has no attribute 'read'"
     ]
    }
   ],
   "source": [
    "json.load(ops)['true']"
   ]
  },
  {
   "cell_type": "code",
   "execution_count": 146,
   "metadata": {},
   "outputs": [
    {
     "ename": "ModelError",
     "evalue": "An error occurred (ModelError) when calling the InvokeEndpoint operation: Received server error (500) from model with message \"{\"error\": \"{\\\"error\\\": \\\"could not preprocess input data: \\\"{\\\\\\\"true\\\\\\\": [254, 269, 241, 115, 70, 63, 71, 16, 12, 40, 68, 164, 192, 259, 265, 148, 227, 730, 738, 912, 300, 271, 153, 147], \\\\\\\"pred\\\\\\\": [1254, 1269, 1241, 1115, 1070, 1063, 1071, 1016, 1012, 1040, 1068, 1164, 1192, 1259, 1265, 1148, 1227, 1730, 1738, 1912, 1300, 1271, 1153, 1147]}\\\"\\\"}\"}\". See https://ap-northeast-1.console.aws.amazon.com/cloudwatch/home?region=ap-northeast-1#logEventViewer:group=/aws/sagemaker/Endpoints/sagemaker-tensorflow-scriptmode-2019-11-08-04-10-40-842 in account 481470706855 for more information.",
     "output_type": "error",
     "traceback": [
      "\u001b[0;31m---------------------------------------------------------------------------\u001b[0m",
      "\u001b[0;31mModelError\u001b[0m                                Traceback (most recent call last)",
      "\u001b[0;32m<ipython-input-146-897365d06a81>\u001b[0m in \u001b[0;36m<module>\u001b[0;34m()\u001b[0m\n\u001b[0;32m----> 1\u001b[0;31m \u001b[0mpredictor_ex\u001b[0m\u001b[0;34m.\u001b[0m\u001b[0mpredict\u001b[0m\u001b[0;34m(\u001b[0m\u001b[0mops\u001b[0m\u001b[0;34m)\u001b[0m\u001b[0;34m[\u001b[0m\u001b[0;34m'judgement'\u001b[0m\u001b[0;34m]\u001b[0m\u001b[0;34m\u001b[0m\u001b[0m\n\u001b[0m",
      "\u001b[0;32m~/anaconda3/envs/tensorflow_p36/lib/python3.6/site-packages/sagemaker/tensorflow/serving.py\u001b[0m in \u001b[0;36mpredict\u001b[0;34m(self, data, initial_args)\u001b[0m\n\u001b[1;32m    117\u001b[0m                 \u001b[0margs\u001b[0m\u001b[0;34m[\u001b[0m\u001b[0;34m\"CustomAttributes\"\u001b[0m\u001b[0;34m]\u001b[0m \u001b[0;34m=\u001b[0m \u001b[0mself\u001b[0m\u001b[0;34m.\u001b[0m\u001b[0m_model_attributes\u001b[0m\u001b[0;34m\u001b[0m\u001b[0m\n\u001b[1;32m    118\u001b[0m \u001b[0;34m\u001b[0m\u001b[0m\n\u001b[0;32m--> 119\u001b[0;31m         \u001b[0;32mreturn\u001b[0m \u001b[0msuper\u001b[0m\u001b[0;34m(\u001b[0m\u001b[0mPredictor\u001b[0m\u001b[0;34m,\u001b[0m \u001b[0mself\u001b[0m\u001b[0;34m)\u001b[0m\u001b[0;34m.\u001b[0m\u001b[0mpredict\u001b[0m\u001b[0;34m(\u001b[0m\u001b[0mdata\u001b[0m\u001b[0;34m,\u001b[0m \u001b[0margs\u001b[0m\u001b[0;34m)\u001b[0m\u001b[0;34m\u001b[0m\u001b[0m\n\u001b[0m\u001b[1;32m    120\u001b[0m \u001b[0;34m\u001b[0m\u001b[0m\n\u001b[1;32m    121\u001b[0m \u001b[0;34m\u001b[0m\u001b[0m\n",
      "\u001b[0;32m~/anaconda3/envs/tensorflow_p36/lib/python3.6/site-packages/sagemaker/predictor.py\u001b[0m in \u001b[0;36mpredict\u001b[0;34m(self, data, initial_args)\u001b[0m\n\u001b[1;32m     97\u001b[0m \u001b[0;34m\u001b[0m\u001b[0m\n\u001b[1;32m     98\u001b[0m         \u001b[0mrequest_args\u001b[0m \u001b[0;34m=\u001b[0m \u001b[0mself\u001b[0m\u001b[0;34m.\u001b[0m\u001b[0m_create_request_args\u001b[0m\u001b[0;34m(\u001b[0m\u001b[0mdata\u001b[0m\u001b[0;34m,\u001b[0m \u001b[0minitial_args\u001b[0m\u001b[0;34m)\u001b[0m\u001b[0;34m\u001b[0m\u001b[0m\n\u001b[0;32m---> 99\u001b[0;31m         \u001b[0mresponse\u001b[0m \u001b[0;34m=\u001b[0m \u001b[0mself\u001b[0m\u001b[0;34m.\u001b[0m\u001b[0msagemaker_session\u001b[0m\u001b[0;34m.\u001b[0m\u001b[0msagemaker_runtime_client\u001b[0m\u001b[0;34m.\u001b[0m\u001b[0minvoke_endpoint\u001b[0m\u001b[0;34m(\u001b[0m\u001b[0;34m**\u001b[0m\u001b[0mrequest_args\u001b[0m\u001b[0;34m)\u001b[0m\u001b[0;34m\u001b[0m\u001b[0m\n\u001b[0m\u001b[1;32m    100\u001b[0m         \u001b[0;32mreturn\u001b[0m \u001b[0mself\u001b[0m\u001b[0;34m.\u001b[0m\u001b[0m_handle_response\u001b[0m\u001b[0;34m(\u001b[0m\u001b[0mresponse\u001b[0m\u001b[0;34m)\u001b[0m\u001b[0;34m\u001b[0m\u001b[0m\n\u001b[1;32m    101\u001b[0m \u001b[0;34m\u001b[0m\u001b[0m\n",
      "\u001b[0;32m~/anaconda3/envs/tensorflow_p36/lib/python3.6/site-packages/botocore/client.py\u001b[0m in \u001b[0;36m_api_call\u001b[0;34m(self, *args, **kwargs)\u001b[0m\n\u001b[1;32m    355\u001b[0m                     \"%s() only accepts keyword arguments.\" % py_operation_name)\n\u001b[1;32m    356\u001b[0m             \u001b[0;31m# The \"self\" in this scope is referring to the BaseClient.\u001b[0m\u001b[0;34m\u001b[0m\u001b[0;34m\u001b[0m\u001b[0m\n\u001b[0;32m--> 357\u001b[0;31m             \u001b[0;32mreturn\u001b[0m \u001b[0mself\u001b[0m\u001b[0;34m.\u001b[0m\u001b[0m_make_api_call\u001b[0m\u001b[0;34m(\u001b[0m\u001b[0moperation_name\u001b[0m\u001b[0;34m,\u001b[0m \u001b[0mkwargs\u001b[0m\u001b[0;34m)\u001b[0m\u001b[0;34m\u001b[0m\u001b[0m\n\u001b[0m\u001b[1;32m    358\u001b[0m \u001b[0;34m\u001b[0m\u001b[0m\n\u001b[1;32m    359\u001b[0m         \u001b[0m_api_call\u001b[0m\u001b[0;34m.\u001b[0m\u001b[0m__name__\u001b[0m \u001b[0;34m=\u001b[0m \u001b[0mstr\u001b[0m\u001b[0;34m(\u001b[0m\u001b[0mpy_operation_name\u001b[0m\u001b[0;34m)\u001b[0m\u001b[0;34m\u001b[0m\u001b[0m\n",
      "\u001b[0;32m~/anaconda3/envs/tensorflow_p36/lib/python3.6/site-packages/botocore/client.py\u001b[0m in \u001b[0;36m_make_api_call\u001b[0;34m(self, operation_name, api_params)\u001b[0m\n\u001b[1;32m    659\u001b[0m             \u001b[0merror_code\u001b[0m \u001b[0;34m=\u001b[0m \u001b[0mparsed_response\u001b[0m\u001b[0;34m.\u001b[0m\u001b[0mget\u001b[0m\u001b[0;34m(\u001b[0m\u001b[0;34m\"Error\"\u001b[0m\u001b[0;34m,\u001b[0m \u001b[0;34m{\u001b[0m\u001b[0;34m}\u001b[0m\u001b[0;34m)\u001b[0m\u001b[0;34m.\u001b[0m\u001b[0mget\u001b[0m\u001b[0;34m(\u001b[0m\u001b[0;34m\"Code\"\u001b[0m\u001b[0;34m)\u001b[0m\u001b[0;34m\u001b[0m\u001b[0m\n\u001b[1;32m    660\u001b[0m             \u001b[0merror_class\u001b[0m \u001b[0;34m=\u001b[0m \u001b[0mself\u001b[0m\u001b[0;34m.\u001b[0m\u001b[0mexceptions\u001b[0m\u001b[0;34m.\u001b[0m\u001b[0mfrom_code\u001b[0m\u001b[0;34m(\u001b[0m\u001b[0merror_code\u001b[0m\u001b[0;34m)\u001b[0m\u001b[0;34m\u001b[0m\u001b[0m\n\u001b[0;32m--> 661\u001b[0;31m             \u001b[0;32mraise\u001b[0m \u001b[0merror_class\u001b[0m\u001b[0;34m(\u001b[0m\u001b[0mparsed_response\u001b[0m\u001b[0;34m,\u001b[0m \u001b[0moperation_name\u001b[0m\u001b[0;34m)\u001b[0m\u001b[0;34m\u001b[0m\u001b[0m\n\u001b[0m\u001b[1;32m    662\u001b[0m         \u001b[0;32melse\u001b[0m\u001b[0;34m:\u001b[0m\u001b[0;34m\u001b[0m\u001b[0m\n\u001b[1;32m    663\u001b[0m             \u001b[0;32mreturn\u001b[0m \u001b[0mparsed_response\u001b[0m\u001b[0;34m\u001b[0m\u001b[0m\n",
      "\u001b[0;31mModelError\u001b[0m: An error occurred (ModelError) when calling the InvokeEndpoint operation: Received server error (500) from model with message \"{\"error\": \"{\\\"error\\\": \\\"could not preprocess input data: \\\"{\\\\\\\"true\\\\\\\": [254, 269, 241, 115, 70, 63, 71, 16, 12, 40, 68, 164, 192, 259, 265, 148, 227, 730, 738, 912, 300, 271, 153, 147], \\\\\\\"pred\\\\\\\": [1254, 1269, 1241, 1115, 1070, 1063, 1071, 1016, 1012, 1040, 1068, 1164, 1192, 1259, 1265, 1148, 1227, 1730, 1738, 1912, 1300, 1271, 1153, 1147]}\\\"\\\"}\"}\". See https://ap-northeast-1.console.aws.amazon.com/cloudwatch/home?region=ap-northeast-1#logEventViewer:group=/aws/sagemaker/Endpoints/sagemaker-tensorflow-scriptmode-2019-11-08-04-10-40-842 in account 481470706855 for more information."
     ]
    }
   ],
   "source": [
    "predictor_ex.predict(ops)['judgement']"
   ]
  },
  {
   "cell_type": "code",
   "execution_count": 118,
   "metadata": {},
   "outputs": [
    {
     "data": {
      "text/plain": [
       "b'/home/ec2-user/SageMaker\\n'"
      ]
     },
     "execution_count": 118,
     "metadata": {},
     "output_type": "execute_result"
    }
   ],
   "source": [
    "import subprocess\n",
    "\n",
    "subprocess.check_output(\"pwd\")"
   ]
  },
  {
   "cell_type": "code",
   "execution_count": 50,
   "metadata": {},
   "outputs": [
    {
     "ename": "ModelError",
     "evalue": "An error occurred (ModelError) when calling the InvokeEndpoint operation: Received server error (500) from model with message \"{\"error\": \"{\\\"error\\\": \\\"could not preprocess input data: {\\\"true\\\": [254, 269, 241, 115, 70, 63, 71, 16, 12, 40, 68, 164, 192, 259, 265, 148, 227, 730, 738, 912, 300, 271, 153, 147], \\\"pred\\\": [354, 369, 341, 215, 170, 163, 171, 116, 112, 140, 168, 264, 292, 359, 365, 248, 327, 830, 838, 1012, 400, 371, 253, 247]}\\\"}\"}\". See https://ap-northeast-1.console.aws.amazon.com/cloudwatch/home?region=ap-northeast-1#logEventViewer:group=/aws/sagemaker/Endpoints/sagemaker-tensorflow-scriptmode-2019-11-07-03-29-18-520 in account 481470706855 for more information.",
     "output_type": "error",
     "traceback": [
      "\u001b[0;31m---------------------------------------------------------------------------\u001b[0m",
      "\u001b[0;31mModelError\u001b[0m                                Traceback (most recent call last)",
      "\u001b[0;32m<ipython-input-50-61ea9f5124b8>\u001b[0m in \u001b[0;36m<module>\u001b[0;34m()\u001b[0m\n\u001b[1;32m      5\u001b[0m     \u001b[0mBody\u001b[0m\u001b[0;34m=\u001b[0m\u001b[0mops\u001b[0m\u001b[0;34m,\u001b[0m\u001b[0;34m\u001b[0m\u001b[0m\n\u001b[1;32m      6\u001b[0m     \u001b[0mContentType\u001b[0m\u001b[0;34m=\u001b[0m\u001b[0;34m'application/json'\u001b[0m\u001b[0;34m,\u001b[0m\u001b[0;34m\u001b[0m\u001b[0m\n\u001b[0;32m----> 7\u001b[0;31m     \u001b[0mAccept\u001b[0m\u001b[0;34m=\u001b[0m\u001b[0;34m'application/json'\u001b[0m\u001b[0;34m\u001b[0m\u001b[0m\n\u001b[0m\u001b[1;32m      8\u001b[0m )\n\u001b[1;32m      9\u001b[0m \u001b[0;34m\u001b[0m\u001b[0m\n",
      "\u001b[0;32m~/anaconda3/envs/tensorflow_p36/lib/python3.6/site-packages/botocore/client.py\u001b[0m in \u001b[0;36m_api_call\u001b[0;34m(self, *args, **kwargs)\u001b[0m\n\u001b[1;32m    355\u001b[0m                     \"%s() only accepts keyword arguments.\" % py_operation_name)\n\u001b[1;32m    356\u001b[0m             \u001b[0;31m# The \"self\" in this scope is referring to the BaseClient.\u001b[0m\u001b[0;34m\u001b[0m\u001b[0;34m\u001b[0m\u001b[0m\n\u001b[0;32m--> 357\u001b[0;31m             \u001b[0;32mreturn\u001b[0m \u001b[0mself\u001b[0m\u001b[0;34m.\u001b[0m\u001b[0m_make_api_call\u001b[0m\u001b[0;34m(\u001b[0m\u001b[0moperation_name\u001b[0m\u001b[0;34m,\u001b[0m \u001b[0mkwargs\u001b[0m\u001b[0;34m)\u001b[0m\u001b[0;34m\u001b[0m\u001b[0m\n\u001b[0m\u001b[1;32m    358\u001b[0m \u001b[0;34m\u001b[0m\u001b[0m\n\u001b[1;32m    359\u001b[0m         \u001b[0m_api_call\u001b[0m\u001b[0;34m.\u001b[0m\u001b[0m__name__\u001b[0m \u001b[0;34m=\u001b[0m \u001b[0mstr\u001b[0m\u001b[0;34m(\u001b[0m\u001b[0mpy_operation_name\u001b[0m\u001b[0;34m)\u001b[0m\u001b[0;34m\u001b[0m\u001b[0m\n",
      "\u001b[0;32m~/anaconda3/envs/tensorflow_p36/lib/python3.6/site-packages/botocore/client.py\u001b[0m in \u001b[0;36m_make_api_call\u001b[0;34m(self, operation_name, api_params)\u001b[0m\n\u001b[1;32m    659\u001b[0m             \u001b[0merror_code\u001b[0m \u001b[0;34m=\u001b[0m \u001b[0mparsed_response\u001b[0m\u001b[0;34m.\u001b[0m\u001b[0mget\u001b[0m\u001b[0;34m(\u001b[0m\u001b[0;34m\"Error\"\u001b[0m\u001b[0;34m,\u001b[0m \u001b[0;34m{\u001b[0m\u001b[0;34m}\u001b[0m\u001b[0;34m)\u001b[0m\u001b[0;34m.\u001b[0m\u001b[0mget\u001b[0m\u001b[0;34m(\u001b[0m\u001b[0;34m\"Code\"\u001b[0m\u001b[0;34m)\u001b[0m\u001b[0;34m\u001b[0m\u001b[0m\n\u001b[1;32m    660\u001b[0m             \u001b[0merror_class\u001b[0m \u001b[0;34m=\u001b[0m \u001b[0mself\u001b[0m\u001b[0;34m.\u001b[0m\u001b[0mexceptions\u001b[0m\u001b[0;34m.\u001b[0m\u001b[0mfrom_code\u001b[0m\u001b[0;34m(\u001b[0m\u001b[0merror_code\u001b[0m\u001b[0;34m)\u001b[0m\u001b[0;34m\u001b[0m\u001b[0m\n\u001b[0;32m--> 661\u001b[0;31m             \u001b[0;32mraise\u001b[0m \u001b[0merror_class\u001b[0m\u001b[0;34m(\u001b[0m\u001b[0mparsed_response\u001b[0m\u001b[0;34m,\u001b[0m \u001b[0moperation_name\u001b[0m\u001b[0;34m)\u001b[0m\u001b[0;34m\u001b[0m\u001b[0m\n\u001b[0m\u001b[1;32m    662\u001b[0m         \u001b[0;32melse\u001b[0m\u001b[0;34m:\u001b[0m\u001b[0;34m\u001b[0m\u001b[0m\n\u001b[1;32m    663\u001b[0m             \u001b[0;32mreturn\u001b[0m \u001b[0mparsed_response\u001b[0m\u001b[0;34m\u001b[0m\u001b[0m\n",
      "\u001b[0;31mModelError\u001b[0m: An error occurred (ModelError) when calling the InvokeEndpoint operation: Received server error (500) from model with message \"{\"error\": \"{\\\"error\\\": \\\"could not preprocess input data: {\\\"true\\\": [254, 269, 241, 115, 70, 63, 71, 16, 12, 40, 68, 164, 192, 259, 265, 148, 227, 730, 738, 912, 300, 271, 153, 147], \\\"pred\\\": [354, 369, 341, 215, 170, 163, 171, 116, 112, 140, 168, 264, 292, 359, 365, 248, 327, 830, 838, 1012, 400, 371, 253, 247]}\\\"}\"}\". See https://ap-northeast-1.console.aws.amazon.com/cloudwatch/home?region=ap-northeast-1#logEventViewer:group=/aws/sagemaker/Endpoints/sagemaker-tensorflow-scriptmode-2019-11-07-03-29-18-520 in account 481470706855 for more information."
     ]
    }
   ],
   "source": [
    "\n",
    "\n",
    "response = client.invoke_endpoint(\n",
    "    EndpointName='sagemaker-tensorflow-scriptmode-2019-11-07-03-29-18-520',\n",
    "    Body=ops,\n",
    "    ContentType='application/json',\n",
    "    Accept='application/json'\n",
    ")\n",
    "\n",
    "body = response['Body']\n",
    "json.load(body)"
   ]
  },
  {
   "cell_type": "code",
   "execution_count": 99,
   "metadata": {},
   "outputs": [
    {
     "data": {
      "text/plain": [
       "-1.5"
      ]
     },
     "execution_count": 99,
     "metadata": {},
     "output_type": "execute_result"
    }
   ],
   "source": [
    "a = [1, 2]\n",
    "b = [2, 4]\n",
    "a = np.array(a)\n",
    "b = np.array(b)\n",
    "(a - b).mean()"
   ]
  },
  {
   "cell_type": "markdown",
   "metadata": {},
   "source": [
    "### SageMakerTensorFlowServingコンテナで推論エンドポイントのデプロイ"
   ]
  },
  {
   "cell_type": "code",
   "execution_count": 29,
   "metadata": {},
   "outputs": [],
   "source": [
    "from sagemaker.tensorflow import TensorFlow\n",
    "from sagemaker import get_execution_role\n",
    "from sagemaker.tensorflow.serving import Model\n",
    "\n",
    "\n",
    "role = get_execution_role()\n",
    "model = Model(\n",
    "    model_data=\"s3://sagemaker-ap-northeast-1-481470706855/sagemaker-tensorflow-scriptmode-2019-10-30-06-14-48-966/output/model.tar.gz\",\n",
    "    role=role,\n",
    "    framework_version=\"1.12.0\"\n",
    "    )\n",
    "\n"
   ]
  },
  {
   "cell_type": "markdown",
   "metadata": {},
   "source": [
    "## モデルのデプロイ"
   ]
  },
  {
   "cell_type": "code",
   "execution_count": 30,
   "metadata": {},
   "outputs": [
    {
     "name": "stdout",
     "output_type": "stream",
     "text": [
      "--------------------------------------------------------------------------------------------------!"
     ]
    }
   ],
   "source": [
    "predictor = model.deploy(instance_type='ml.m4.xlarge', initial_instance_count=1)"
   ]
  },
  {
   "cell_type": "code",
   "execution_count": null,
   "metadata": {},
   "outputs": [],
   "source": [
    "import boto3\n",
    "from sagemaker.amazon.amazon_estimator import get_image_uri\n",
    "\n",
    "container = get_image_uri(boto3.Session().region_name, 'sagemaker-tensorflow-serving')\n",
    "print(container)"
   ]
  },
  {
   "cell_type": "markdown",
   "metadata": {},
   "source": [
    "## 推論"
   ]
  },
  {
   "cell_type": "code",
   "execution_count": 90,
   "metadata": {},
   "outputs": [],
   "source": [
    "def _load_data(data, n_prev=50):\n",
    "    docX, docY = [], []\n",
    "    for i in range(len(data) - n_prev):\n",
    "        if i == 0:\n",
    "            continue\n",
    "        docX.append(data.iloc[i - 1:i + n_prev - 1].values)\n",
    "        docY.append(data.iloc[i + n_prev].values)\n",
    "    alsX = np.array(docX)\n",
    "    alsY = np.array(docY)\n",
    "\n",
    "    return alsX, alsY\n",
    "\n",
    "\n",
    "# 学習用とテスト用データを分割、ただし分割する際に_load_data()を適用\n",
    "def train_test_split(df, test_size=0.1, n_prev=50):\n",
    "    \"\"\"\n",
    "    This just splits data to training and testing parts\n",
    "    \"\"\"\n",
    "    ntrn = round(len(df) * (1 - test_size))\n",
    "    ntrn = int(ntrn)\n",
    "    X_train, y_train = _load_data(df.iloc[0:ntrn], n_prev)\n",
    "    X_test, y_test = _load_data(df.iloc[ntrn:], n_prev)\n",
    "\n",
    "    return (X_train, y_train), (X_test, y_test)\n",
    "\n",
    "\n",
    "\n",
    "df_code_date_hourly = pd.read_csv('./code_run_num_hourly.csv')\n",
    "split_date = lambda x: x.split(\" \")[0]\n",
    "df_code_date_hourly[\"date\"] = list(map(split_date, df_code_date_hourly['timestamp'].values))\n",
    "\n",
    "\n",
    "length_of_sequences = 24\n",
    "test_size = 0.1\n",
    "\n",
    "(_, _), (x, _) = train_test_split(df_code_date_hourly[['demand']], test_size=test_size,\n",
    "                                                        n_prev=length_of_sequences)\n"
   ]
  },
  {
   "cell_type": "markdown",
   "metadata": {},
   "source": [
    "## 推論エンドポイント呼び出し"
   ]
  },
  {
   "cell_type": "code",
   "execution_count": 96,
   "metadata": {},
   "outputs": [
    {
     "data": {
      "text/plain": [
       "array([[254],\n",
       "       [269],\n",
       "       [241],\n",
       "       [115],\n",
       "       [ 70],\n",
       "       [ 63],\n",
       "       [ 71],\n",
       "       [ 16],\n",
       "       [ 12],\n",
       "       [ 40],\n",
       "       [ 68],\n",
       "       [164],\n",
       "       [192],\n",
       "       [259],\n",
       "       [265],\n",
       "       [148],\n",
       "       [227],\n",
       "       [730],\n",
       "       [738],\n",
       "       [912],\n",
       "       [300],\n",
       "       [271],\n",
       "       [153],\n",
       "       [147]])"
      ]
     },
     "execution_count": 96,
     "metadata": {},
     "output_type": "execute_result"
    }
   ],
   "source": [
    "exc[0]"
   ]
  },
  {
   "cell_type": "code",
   "execution_count": 93,
   "metadata": {},
   "outputs": [],
   "source": [
    "from boto3 import Session\n",
    "from sagemaker.predictor import csv_serializer\n",
    "from sklearn.externals import joblib\n",
    "import os\n",
    "import argparse\n",
    "import slackweb\n",
    "import sagemaker\n",
    "import pandas as pd\n",
    "from sagemaker.tensorflow.predictor import _TFJsonDeserializer, _TFJsonSerializer\n",
    "from sagemaker.tensorflow.serving import Predictor\n",
    "\n",
    "\n",
    "endpoint=\"SageMakerTensorflowSaving\"\n",
    "profile = 'default'\n",
    "session = Session(profile_name=profile)\n",
    "sm_session = sagemaker.Session(boto_session=session)\n",
    "\n",
    "predictor = Predictor(endpoint, sagemaker_session=sm_session)\n",
    "predictor.serializer = _TFJsonSerializer()\n",
    "predictor.deserializer = _TFJsonDeserializer()\n",
    "predictor.content_type = \"application/json\"\n",
    "predictor.accept = \"application/json\"\n",
    "\n"
   ]
  },
  {
   "cell_type": "code",
   "execution_count": 26,
   "metadata": {},
   "outputs": [],
   "source": [
    "pred = predictor_ex.predict(exc[0])"
   ]
  },
  {
   "cell_type": "code",
   "execution_count": 27,
   "metadata": {},
   "outputs": [
    {
     "data": {
      "text/plain": [
       "{'prediction': 165}"
      ]
     },
     "execution_count": 27,
     "metadata": {},
     "output_type": "execute_result"
    }
   ],
   "source": [
    "pred"
   ]
  },
  {
   "cell_type": "code",
   "execution_count": 14,
   "metadata": {},
   "outputs": [
    {
     "data": {
      "text/plain": [
       "'[[254], [269], [241], [115], [70], [63], [71], [16], [12], [40], [68], [164], [192], [259], [265], [148], [227], [730], [738], [912], [300], [271], [153], [147]]'"
      ]
     },
     "execution_count": 14,
     "metadata": {},
     "output_type": "execute_result"
    }
   ],
   "source": [
    "import json\n",
    "\n",
    "json.dumps(exc[0].tolist())"
   ]
  },
  {
   "cell_type": "code",
   "execution_count": 31,
   "metadata": {},
   "outputs": [
    {
     "data": {
      "text/plain": [
       "197355.8910006308"
      ]
     },
     "execution_count": 31,
     "metadata": {},
     "output_type": "execute_result"
    }
   ],
   "source": [
    "f = open(\"test.json\")\n",
    "# jsonデータを読み込んだファイルオブジェクトからPythonデータを作成\n",
    "data = json.load(f)\n",
    "data['threshold_value']"
   ]
  },
  {
   "cell_type": "code",
   "execution_count": 147,
   "metadata": {},
   "outputs": [
    {
     "data": {
      "text/plain": [
       "{'judgement': 1}"
      ]
     },
     "execution_count": 147,
     "metadata": {},
     "output_type": "execute_result"
    }
   ],
   "source": [
    "import boto3\n",
    "import json\n",
    "\n",
    "client = boto3.client('sagemaker-runtime')\n",
    "\n",
    "# inp = bytes(str(exc[0].flatten().tolist()), 'utf-8')\n",
    "inp = json.dumps(exc[0].tolist())\n",
    "\n",
    "response = client.invoke_endpoint(\n",
    "    EndpointName='sagemaker-tensorflow-scriptmode-2019-11-08-04-10-40-842',\n",
    "    Body=ops,\n",
    "    ContentType='application/json',\n",
    "    Accept='application/json'\n",
    ")\n",
    "\n",
    "body = response['Body']\n",
    "json.load(body)"
   ]
  }
 ],
 "metadata": {
  "kernelspec": {
   "display_name": "conda_tensorflow_p36",
   "language": "python",
   "name": "conda_tensorflow_p36"
  },
  "language_info": {
   "codemirror_mode": {
    "name": "ipython",
    "version": 3
   },
   "file_extension": ".py",
   "mimetype": "text/x-python",
   "name": "python",
   "nbconvert_exporter": "python",
   "pygments_lexer": "ipython3",
   "version": "3.6.5"
  }
 },
 "nbformat": 4,
 "nbformat_minor": 2
}
